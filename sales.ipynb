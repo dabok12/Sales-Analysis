{
 "cells": [
  {
   "cell_type": "code",
   "execution_count": 1,
   "metadata": {},
   "outputs": [],
   "source": [
    "import pandas as pd"
   ]
  },
  {
   "cell_type": "markdown",
   "metadata": {},
   "source": [
    "### Task 1: Merging 12 csvs into a single dataframe"
   ]
  },
  {
   "cell_type": "code",
   "execution_count": 2,
   "metadata": {},
   "outputs": [],
   "source": [
    "import os\n",
    "\n",
    "#reading files in the directory\n",
    "files = [file for file in os.listdir('./Sales_Data')]\n",
    "\n",
    "#empty Data Frame\n",
    "sales_all_months = pd.DataFrame()\n",
    "\n",
    "for file in files:\n",
    "    ##reads file and store in df\n",
    "    df =  pd.read_csv('./Sales_Data/' + file)\n",
    "    #contacating file stored in df to single dataframe\n",
    "    sales_all = pd.concat([sales_all_months, df])\n",
    "\n",
    "##saving to csv\n",
    "sales_all.to_csv(\"sales.csv\", index=False)"
   ]
  },
  {
   "cell_type": "code",
   "execution_count": null,
   "metadata": {},
   "outputs": [],
   "source": []
  }
 ],
 "metadata": {
  "kernelspec": {
   "display_name": "Python 3",
   "language": "python",
   "name": "python3"
  },
  "language_info": {
   "codemirror_mode": {
    "name": "ipython",
    "version": 3
   },
   "file_extension": ".py",
   "mimetype": "text/x-python",
   "name": "python",
   "nbconvert_exporter": "python",
   "pygments_lexer": "ipython3",
   "version": "3.8.2"
  }
 },
 "nbformat": 4,
 "nbformat_minor": 4
}
